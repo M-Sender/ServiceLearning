{
 "cells": [
  {
   "cell_type": "code",
   "execution_count": 1,
   "metadata": {},
   "outputs": [],
   "source": [
    "#SETUP CELL (RUN ONCE)\n",
    "import pandas as pd\n",
    "import numpy as np\n",
    "import matplotlib.pyplot as plt\n",
    "import seaborn as sns\n"
   ]
  },
  {
   "cell_type": "code",
   "execution_count": 3,
   "metadata": {},
   "outputs": [],
   "source": [
    "#SETUP CELL (RUN ONCE)\n",
    "df_Calls_untidy = pd.read_csv(\"../data/Calls_for_Service_2021.csv\")\n",
    "df_zones_untidy = pd.read_csv(\"../data/Police_Zones_data.csv\")\n",
    "df_Calls = df_Calls_untidy.drop(columns=['NOPD_Item',\n",
    "                                         'Type',\n",
    "                                         'InitialType',\n",
    "                                         'MapX',\n",
    "                                         'MapY',\n",
    "                                         'Disposition',\n",
    "                                         'Beat'])\n",
    "#df_Calls = df_Calls.astype({'TimeCreate':'datetime64[ns]',\n",
    "#                            'TimeDispatch':'datetime64[ns]',\n",
    "#                            \"TimeArrive\":'datetime64[ns]',\n",
    "#                            \"TimeClosed\":'datetime64[ns]'})\n"
   ]
  },
  {
   "cell_type": "markdown",
   "metadata": {},
   "source": [
    "NOTES:::\n",
    "Display heatmap tables\n",
    "\n",
    "\n",
    "\n",
    "QUESTIONS:::\n",
    "*   Most frequent crimes in specific areas?\n",
    "\n",
    "*   Based on the value counts of each type of crime in each area can we generalize patterns like violent crime happening more in one area, theft in another, etc?\n",
    "\n",
    "*   What are the most frequest crimes by time of day in conjunction with a specific area?"
   ]
  },
  {
   "cell_type": "markdown",
   "metadata": {},
   "source": []
  },
  {
   "cell_type": "code",
   "execution_count": 4,
   "metadata": {},
   "outputs": [],
   "source": [
    "#using df_Calls, find the most common crimes for each police district\n",
    "#here lets make tables and stuff by grouping by zones, type of incidents, and other things that answer our question\n",
    "#we should be good after this and then in our plan we can say we will be making a map of the data we find and then graphs and such of data stuff than cant be mapped\n",
    "\n",
    "#Get 30 most frequent crimes\n",
    "new_df = df_Calls.TypeText.value_counts()\n",
    "top_Call_df = df_Calls[df_Calls.TypeText.isin(new_df[0:29].index)]\n",
    "\n",
    "\n",
    "\n",
    "type_by_district = top_Call_df[['PoliceDistrict','TypeText']].pivot_table(index=['PoliceDistrict'],columns=['TypeText'],aggfunc=np.count_nonzero)\n",
    "type_by_zipcode = top_Call_df[['Zip','TypeText']].pivot_table(index=['Zip'],columns=['TypeText'],aggfunc=np.count_nonzero)\n",
    "#'''df_Calls_crossTab = pd.crosstab(df_Calls['PoliceDistrict'],df_Calls['TypeText'])\n",
    "#display((df_Calls_crossTab.T / df_Calls_crossTab.T.sum()).T.plot(kind='bar',stacked=True, legend=False))\n",
    "#type_by_district.plot(kind='bar', stacked=True, legend=False) #need to convert to marginal distribution for comparison'''\n",
    "\n",
    "type_by_district.T[0].max()\n",
    "df_Calls_marg_district = type_by_district.T / type_by_district.T.sum()\n",
    "df_Calls_marg_zip = type_by_zipcode.T / type_by_zipcode.T.sum()\n",
    "pop_district = type_by_district.T.idxmax()\n",
    "pop_zip = type_by_zipcode.T.idxmax()\n",
    "type_by_district_with_freq =  pd.merge(type_by_district, pop_district.rename('Most Frequent'), 'outer',on='PoliceDistrict')\n",
    "type_by_zipcode_with_freq = pd.merge(type_by_zipcode, pop_zip.rename('Most Frequent'), 'outer',on='Zip')\n",
    "\n",
    "\n",
    "\n",
    "\n"
   ]
  },
  {
   "cell_type": "code",
   "execution_count": null,
   "metadata": {},
   "outputs": [],
   "source": []
  },
  {
   "cell_type": "markdown",
   "metadata": {},
   "source": [
    "Another model we are planning on making is analyzing the cross between the type of crime/ frequency to income and other related fields by zipcodes avaible in the 911 call data set. After analyzing the crossing of data, we hope to find a line or certain characteristics that make some zipcodes more likely to be involved in certain types of crimes. With this \"line\" or characteristcs, we can then predict the likelihood of a zipcode being involved in a certain type of crime, and be able to tell when zipcodes are creeping towards that line/ ways to escape and improve."
   ]
  },
  {
   "cell_type": "code",
   "execution_count": 32,
   "metadata": {},
   "outputs": [
    {
     "name": "stderr",
     "output_type": "stream",
     "text": [
      "Task exception was never retrieved\n",
      "future: <Task finished name='Task-7' coro=<get_data() done, defined at C:\\WINDOWS\\TEMP/ipykernel_14452/2246762983.py:17> exception=AttributeError(\"'_asyncio.Future' object has no attribute 'text'\")>\n",
      "Traceback (most recent call last):\n",
      "  File \"C:\\WINDOWS\\TEMP/ipykernel_14452/2246762983.py\", line 18, in get_data\n",
      "    return await response.text()\n",
      "AttributeError: '_asyncio.Future' object has no attribute 'text'\n"
     ]
    },
    {
     "name": "stdout",
     "output_type": "stream",
     "text": [
      "<Future pending cb=[_chain_future.<locals>._call_check_cancel() at C:\\Users\\MSend\\anaconda3\\envs\\Capstone\\lib\\asyncio\\futures.py:384]>\n"
     ]
    },
    {
     "ename": "AttributeError",
     "evalue": "'_asyncio.Future' object has no attribute 'page_source'",
     "output_type": "error",
     "traceback": [
      "\u001b[1;31m---------------------------------------------------------------------------\u001b[0m",
      "\u001b[1;31mAttributeError\u001b[0m                            Traceback (most recent call last)",
      "\u001b[1;32mC:\\WINDOWS\\TEMP/ipykernel_14452/1238307996.py\u001b[0m in \u001b[0;36m<module>\u001b[1;34m\u001b[0m\n\u001b[0;32m     22\u001b[0m             \u001b[0mprint\u001b[0m\u001b[1;33m(\u001b[0m\u001b[0minfo\u001b[0m\u001b[1;33m)\u001b[0m\u001b[1;33m\u001b[0m\u001b[1;33m\u001b[0m\u001b[0m\n\u001b[0;32m     23\u001b[0m             \u001b[1;31m#info.html.render()\u001b[0m\u001b[1;33m\u001b[0m\u001b[1;33m\u001b[0m\u001b[0m\n\u001b[1;32m---> 24\u001b[1;33m             \u001b[0mparse_HTML\u001b[0m \u001b[1;33m=\u001b[0m \u001b[0minfo\u001b[0m\u001b[1;33m.\u001b[0m\u001b[0mpage_source\u001b[0m\u001b[1;33m\u001b[0m\u001b[1;33m\u001b[0m\u001b[0m\n\u001b[0m\u001b[0;32m     25\u001b[0m             \u001b[0mprint\u001b[0m\u001b[1;33m(\u001b[0m\u001b[0mparse_HTML\u001b[0m\u001b[1;33m)\u001b[0m\u001b[1;33m\u001b[0m\u001b[1;33m\u001b[0m\u001b[0m\n\u001b[0;32m     26\u001b[0m             \u001b[0msoup\u001b[0m \u001b[1;33m=\u001b[0m \u001b[0mbf\u001b[0m\u001b[1;33m(\u001b[0m\u001b[0mparse_HTML\u001b[0m\u001b[1;33m,\u001b[0m\u001b[1;34m\"html.parser\"\u001b[0m\u001b[1;33m)\u001b[0m\u001b[1;33m\u001b[0m\u001b[1;33m\u001b[0m\u001b[0m\n",
      "\u001b[1;31mAttributeError\u001b[0m: '_asyncio.Future' object has no attribute 'page_source'"
     ]
    }
   ],
   "source": [
    "'''import census import Census\n",
    "c = Census(\"6ef3d839845c6500b67b00a07c30c0d61a224218\")\n",
    "variable = '''\n",
    "import requests\n",
    "import numpy as np\n",
    "from bs4 import BeautifulSoup as bf\n",
    "import requests_html as reqHtml\n",
    "zip_range = df_Calls.Zip.unique()\n",
    "\n",
    "baseUrl = \"https://data.census.gov/cedsci/all?q=ZCTA5\"\n",
    "space_ele = \"%20\"\n",
    "income = []\n",
    "health = []\n",
    "employment =[]\n",
    "education = []\n",
    "\n",
    "requ_Variables = [(\"Income%20and%20Poverty\",income),(\"%20Health\",health),(\"%20employment\",employment),(\"%20Education\",education)]\n",
    "browser = reqHtml.AsyncHTMLSession()\n",
    "for zipcodeBase in zip_range:\n",
    "    for requ_Variable in requ_Variables:\n",
    "            info = browser.get(baseUrl+space_ele+zipcodeBase+space_ele+requ_Variable[0])  \n",
    "            print(info)\n",
    "            #info.html.render()\n",
    "            parse_HTML = info.page_source\n",
    "            print(parse_HTML)\n",
    "            soup = bf(parse_HTML,\"html.parser\")\n",
    "            result = soup.find(\"div\",class_=\"aqua-card-title-text\")\n",
    "            result = result.text\n",
    "            requ_Variable[1].append(result)\n",
    "print(income)\n",
    "print(health)\n",
    "print(employment)\n",
    "print(education)\n",
    "\n"
   ]
  },
  {
   "cell_type": "code",
   "execution_count": 11,
   "metadata": {},
   "outputs": [
    {
     "name": "stdout",
     "output_type": "stream",
     "text": [
      "['70124' '70115' 'None' '70131' '70126' '70114' '70117' '70116' '70113'\n",
      " '70119' '70112' '70122' '70127' '70130' '70128' '70118' '70125' nan\n",
      " '70129' '70148']\n"
     ]
    }
   ],
   "source": [
    "print(df_Calls.Zip.unique())\n",
    "income = [96844,66499,np.nan,52312,27026,30806,30264,48919,18148,39827,\n",
    "          49439,39506,27190,53946,36414,48919,46526,np.nan,36950,np.nan] #income from 2019\n",
    "health = [3.8,7.2,np.nan,8.9,9.0,10.8,13.6,12.7,14.5,11.6,\n",
    "          12.1,9.2,8.6,8.1,7.5,7.6,7.9,np.nan,11.7,np.nan] #percent without health care coverage from 2019\n",
    "employment =[]\n",
    "education = []\n"
   ]
  },
  {
   "cell_type": "code",
   "execution_count": null,
   "metadata": {},
   "outputs": [],
   "source": [
    "df_Calls.TypeText.unique()\n",
    "violent_type =  df_Calls.TypeText.isin(['BURGLAR ALARM, SILENT', \n",
    "       'DISCHARGING FIREARM', 'AUTO ACCIDENT WITH INJURY', 'AGGRAVATED CRIMINAL DAMAGE',\n",
    "       'HIT & RUN WITH INJURIES', 'FIGHT',\n",
    "       'DOMESTIC DISTURBANCE', 'SIMPLE BATTERY', 'HIT & RUN', 'MEDICAL',\n",
    "       'HOLD UP ALARM', 'EXTORTION (THREATS)',\n",
    "       'BURGLAR ALARM, SILENT, FAR NO RESPONSE', 'AGGRAVATED BATTERY DOMESTIC', \n",
    "       'ARMED ROBBERY WITH KNIFE', 'RECKLESS DRIVING', 'SIMPLE BATTERY DOMESTIC', \n",
    "       'MISDEMEANOR SEXUAL BATTERY', 'BURGLAR ALARM, LOCAL',\n",
    "       'AGGRAVATED BATTERY BY SHOOTING', 'SIMPLE BURGLARY VEHICLE',\n",
    "       'SIMPLE CRIMINAL DAMAGE',\n",
    "       'SIMPLE BURGLARY', \n",
    "       'AGGRAVATED ASSAULT', 'VIOLATION OF PROTECTION ORDER', 'PROWLER',\n",
    "       'RESIDENCE CHECK', 'AGGRAVATED BURGLARY DOMESTIC',\n",
    "       'DRUG VIOLATIONS', 'VEHICLE NO-PURSUIT',\n",
    "       'CRIMINAL DAMAGE DOMESTIC', 'MISSING ADULT', 'RESIDENCE BURGLARY',\n",
    "       'MISSING JUVENILE', 'SIMPLE ROBBERY, PROPERTY SNATCHING',\n",
    "       'UNCLASSIFIED DEATH', 'RECOVERY OF REPORTED STOLEN VEHICLE',\n",
    "       'SIMPLE ASSAULT DOMESTIC', 'OBSCENITY, EXPOSING',\n",
    "       'AGGRAVATED ASSAULT DOMESTIC', 'DIRECTED PATROL',\n",
    "       'THEFT FROM EXTERIOR OF VEHICLE', 'PICKPOCKET',\n",
    "       'AGGRAVATED BATTERY BY CUTTING', 'AUTO ACCIDENT CITY VEHICLE',\n",
    "       'SIMPLE ROBBERY', 'FUGITIVE ATTACHMENT', 'ARMED ROBBERY WITH GUN',\n",
    "       'AGGRAVATED BATTERY', 'THEFT BY FRAUD', 'ARMED ROBBERY',\n",
    "       'BUSINESS BURGLARY', 'AUTO ACCIDENT FATALITY', 'FIRE',\n",
    "       'SIMPLE RAPE', 'WALKING BEAT', 'SUICIDE ATTEMPT',\n",
    "       'CRIMINAL MISCHIEF', 'SEXUAL BATTERY', 'RECOVERY OF VEHICLE',\n",
    "       'AGGRAVATED RAPE UNFOUNDED BY SPECIAL VICTIMS OR CHILD ABUSE',\n",
    "       'POSSESSION OF STOLEN PROPERTY', 'EXTORTION (THREATS) DOMESTIC',\n",
    "       'CARJACKING- NO WEAPON', 'VEHICLE PURSUIT', 'FORGERY',\n",
    "       'SIMPLE BURGLARY DOMESTIC', 'SEXTING', 'CARJACKING',\n",
    "       'MEDICAL SEXUAL ASSAULT KIT PROCESSING',\n",
    "       'AUTO ACCIDENT POLICE VEHICLE', 'DIRECTED TRAFFIC ENFORCEMENT',\n",
    "       'ILLEGAL CARRYING OF WEAPON- GUN',\n",
    "       'SIMULTANEOS STOLEN/RECOVERY VEHICLE', 'ABANDONED BOAT',\n",
    "       'HIT & RUN CITY VEHICLE', 'AGGRAVATED RAPE', 'BICYCLE THEFT',\n",
    "       'INDECENT BEHAVIOR', 'ILLEGAL CARRYING OF WEAPON',\n",
    "       'SIMPLE KIDNAPPING', 'QUALITY OF LIFE ISSUE', 'CRUELTY TO ANIMALS',\n",
    "       'HOMICIDE BY SHOOTING', 'HOMELESS', 'TRUANT VIOLATION',\n",
    "       'ISSUING WORTHLESS CHECKS', 'SIMPLE ASSAULT', 'FLOOD EVENT',\n",
    "       'CAD TEST', 'PROTEST', 'DISPERSE SUBJECTS',\n",
    "       'SEX OFFENDER REGISTRATION CHECK', 'TRAFFIC ATTACHMENT',\n",
    "       'NEGLIENT INJURY', 'HOMICIDE DOMESTIC', 'AGGRAVATED BURGLARY',\n",
    "       'ASSET SEIZURE', 'THEFT BY EMBEZZLEMENT', 'DESECRATION OF GRAVES',\n",
    "       'SUSPICIOUS PACKAGE', 'JUVENILE ATTACHMENT', 'VIDEO VOYEURISM',\n",
    "       'SIMPLE ARSON', 'MEET AN OFFICER', 'CONTRIBUTING TO DELINQUENCY',\n",
    "       'CURFEW VIOLATION', 'SUICIDE', 'MEDICAL - NALOXONE',\n",
    "       'HIT & RUN FATALITY', 'BOMB SCARE',\n",
    "       'SIMPLE RAPE UNFOUNDED BY SPECIAL VICTIMS OR CHILD ABUSE',\n",
    "       'AGGRAVATED KIDNAPPING', 'DRUNK', 'HOMICIDE',\n",
    "       'HIT & RUN POLICE VEHICLE', 'OFFICER NEEDS ASSISTANCE',\n",
    "       'HOMICIDE BY CUTTING', 'PROSTITUTION',\n",
    "       'OFFICER NEEDS ASSISTANCE, LIFE IN DANGER', 'BLIGHTED PROPERTY',\n",
    "       'ILLEGAL CARRYING OF WEAPON- KNIFE', 'ICING ON ROADS',\n",
    "       'SOLICITING FOR PROSTITUTION', 'BARRICADE ERECTED',\n",
    "       'AGGRAVATED ARSON', 'ATTACHMENT', 'EXPLOSION',\n",
    "       'CRIME AGAINST NATURE', 'FLOODED VEHICLE', 'TRAFFIC CONGESTION',\n",
    "       'EMS UNIT NEEDS ASSISTANCE', 'CRIMINAL MISCHIEF DOMESTIC',\n",
    "       'AGGRAVATED RAPE MALE VICTIM', 'PEEPING TOM', 'AIRPLANE CRASH',\n",
    "       'HOSTAGE SITUATION', 'SIMPLE ARSON DOMESTIC', 'SIMPLE ESCAPE',\n",
    "       'IMPERSONATING AN OFFICER', 'AGGRAVATED ESCAPE',\n",
    "       'REFERRAL TO MHSD', 'TROOP N AREA - BUSINESS - RESIDENCE CHECK',\n",
    "       'SIMPLE RAPE MALE VICTIM', 'PARADE ITEM NUMBER'])#true and false"
   ]
  }
 ],
 "metadata": {
  "interpreter": {
   "hash": "d6d5ebbc22686cbf87e792bf78f7dd83e8c50b321b9443f473afd7acb3f9cb7d"
  },
  "kernelspec": {
   "display_name": "Python 3.9.7 64-bit ('Capstone': conda)",
   "language": "python",
   "name": "python3"
  },
  "language_info": {
   "codemirror_mode": {
    "name": "ipython",
    "version": 3
   },
   "file_extension": ".py",
   "mimetype": "text/x-python",
   "name": "python",
   "nbconvert_exporter": "python",
   "pygments_lexer": "ipython3",
   "version": "3.9.7"
  },
  "orig_nbformat": 4
 },
 "nbformat": 4,
 "nbformat_minor": 2
}
