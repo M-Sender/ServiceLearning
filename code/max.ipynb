{
 "cells": [
  {
   "cell_type": "code",
   "execution_count": 2,
   "metadata": {},
   "outputs": [],
   "source": [
    "#SETUP CELL (RUN ONCE)\n",
    "import pandas as pd\n",
    "import numpy as np\n",
    "import matplotlib.pyplot as plt\n",
    "import seaborn as sns\n"
   ]
  },
  {
   "cell_type": "code",
   "execution_count": 3,
   "metadata": {},
   "outputs": [],
   "source": [
    "#SETUP CELL (RUN ONCE)\n",
    "df_Calls_untidy = pd.read_csv(\"../data/Calls_for_Service_2021.csv\")\n",
    "df_zones_untidy = pd.read_csv(\"../data/Police_Zones_data.csv\")\n",
    "df_Calls = df_Calls_untidy.drop(columns=['NOPD_Item',\n",
    "                                         'Type',\n",
    "                                         'InitialType',\n",
    "                                         'MapX',\n",
    "                                         'MapY',\n",
    "                                         'Disposition',\n",
    "                                         'Beat'])\n",
    "df_Calls = df_Calls.astype({'TimeCreate':'datetime64[ns]',\n",
    "                            'TimeDispatch':'datetime64[ns]',\n",
    "                            \"TimeArrive\":'datetime64[ns]',\n",
    "                            \"TimeClosed\":'datetime64[ns]'})\n"
   ]
  },
  {
   "cell_type": "markdown",
   "metadata": {},
   "source": [
    "\n",
    "*   Most frequent crimes in specific areas?\n",
    "\n",
    "*   Based on the value counts of each type of crime in each area can we generalize patterns like violent crime happening more in one area, theft in another, etc?\n",
    "\n",
    "*   What are the most frequest crimes by time of day in conjunction with a specific area?"
   ]
  },
  {
   "cell_type": "code",
   "execution_count": 4,
   "metadata": {},
   "outputs": [],
   "source": [
    "#using df_Calls, find the most common crimes for each police district\n",
    "#here lets make tables and stuff by grouping by zones, type of incidents, and other things that answer our question\n",
    "#we should be good after this and then in our plan we can say we will be making a map of the data we find and then graphs and such of data stuff than cant be mapped\n",
    "\n",
    "#Get 30 most frequent crimes\n",
    "new_df = df_Calls.TypeText.value_counts()\n",
    "top_Call_df = df_Calls[df_Calls.TypeText.isin(new_df[0:29].index)]\n",
    "\n",
    "\n",
    "\n",
    "type_by_district = top_Call_df[['PoliceDistrict','TypeText']].pivot_table(index=['PoliceDistrict'],columns=['TypeText'],aggfunc=np.count_nonzero)\n",
    "type_by_zipcode = top_Call_df[['Zip','TypeText']].pivot_table(index=['Zip'],columns=['TypeText'],aggfunc=np.count_nonzero)\n",
    "#'''df_Calls_crossTab = pd.crosstab(df_Calls['PoliceDistrict'],df_Calls['TypeText'])\n",
    "#display((df_Calls_crossTab.T / df_Calls_crossTab.T.sum()).T.plot(kind='bar',stacked=True, legend=False))\n",
    "#type_by_district.plot(kind='bar', stacked=True, legend=False) #need to convert to marginal distribution for comparison'''\n",
    "\n",
    "type_by_district.T[0].max()\n",
    "df_Calls_marg_district = type_by_district.T / type_by_district.T.sum()\n",
    "df_Calls_marg_zip = type_by_zipcode.T / type_by_zipcode.T.sum()\n",
    "pop_district = type_by_district.T.idxmax()\n",
    "pop_zip = type_by_zipcode.T.idxmax()\n",
    "type_by_district_with_freq =  pd.merge(type_by_district, pop_district.rename('Most Frequent'), 'outer',on='PoliceDistrict')\n",
    "type_by_zipcode_with_freq = pd.merge(type_by_zipcode, pop_zip.rename('Most Frequent'), 'outer',on='Zip')\n",
    "\n",
    "\n",
    "\n",
    "\n"
   ]
  },
  {
   "cell_type": "code",
   "execution_count": 8,
   "metadata": {},
   "outputs": [
    {
     "data": {
      "text/plain": [
       "array(['AREA CHECK', 'BURGLAR ALARM, SILENT', 'FIREWORKS',\n",
       "       'DISCHARGING FIREARM', 'AUTO ACCIDENT WITH INJURY',\n",
       "       'COMPLAINT OTHER', 'AGGRAVATED CRIMINAL DAMAGE',\n",
       "       'DISTURBANCE (OTHER)', 'HIT & RUN WITH INJURIES', 'FIGHT',\n",
       "       'DOMESTIC DISTURBANCE', 'SIMPLE BATTERY', 'HIT & RUN', 'MEDICAL',\n",
       "       'HOLD UP ALARM', 'EXTORTION (THREATS)', 'TRAFFIC STOP',\n",
       "       'BURGLAR ALARM, SILENT, FAR NO RESPONSE', 'PUBLIC GATHERING',\n",
       "       'BUSINESS CHECK', 'AGGRAVATED BATTERY DOMESTIC', 'LOST PROPERTY',\n",
       "       'SUSPICIOUS PERSON', 'MENTAL PATIENT', 'TRAFFIC INCIDENT',\n",
       "       'ARMED ROBBERY WITH KNIFE', 'RECKLESS DRIVING', 'SILENT 911 CALL',\n",
       "       'SIMPLE BATTERY DOMESTIC', 'WARR STOP WITH RELEASE',\n",
       "       'RETURN FOR ADDITIONAL INFO',\n",
       "       'INCIDENT REQUESTED BY ANOTHER AGENCY',\n",
       "       'MISDEMEANOR SEXUAL BATTERY', 'AUTO ACCIDENT',\n",
       "       'BURGLAR ALARM, LOCAL', 'NOISE COMPLAINT', 'THEFT', 'AUTO THEFT',\n",
       "       'ABANDONED VEHICLE', 'UNAUTHORIZED USE OF VEHICLE',\n",
       "       'AGGRAVATED BATTERY BY SHOOTING', 'SIMPLE BURGLARY VEHICLE',\n",
       "       'MUNICIPAL ATTACHMENT', 'DEATH', 'SIMPLE CRIMINAL DAMAGE',\n",
       "       'TOW IMPOUNDED VEHICLE (PRIVATE)', 'DRIVING WHILE UNDER INFLUENCE',\n",
       "       'SUICIDE THREAT', 'SIMPLE BURGLARY', 'SHOPLIFTING',\n",
       "       'AGGRAVATED ASSAULT', 'VIOLATION OF PROTECTION ORDER', 'PROWLER',\n",
       "       'RESIDENCE CHECK', 'AGGRAVATED BURGLARY DOMESTIC',\n",
       "       'DRUG VIOLATIONS', 'VEHICLE NO-PURSUIT',\n",
       "       'CRIMINAL DAMAGE DOMESTIC', 'MISSING ADULT', 'RESIDENCE BURGLARY',\n",
       "       'MISSING JUVENILE', 'SIMPLE ROBBERY, PROPERTY SNATCHING',\n",
       "       'UNCLASSIFIED DEATH', 'RECOVERY OF REPORTED STOLEN VEHICLE',\n",
       "       'SIMPLE ASSAULT DOMESTIC', 'OBSCENITY, EXPOSING',\n",
       "       'AGGRAVATED ASSAULT DOMESTIC', 'DIRECTED PATROL',\n",
       "       'THEFT FROM EXTERIOR OF VEHICLE', 'PICKPOCKET',\n",
       "       'AGGRAVATED BATTERY BY CUTTING', 'AUTO ACCIDENT CITY VEHICLE',\n",
       "       'SIMPLE ROBBERY', 'FUGITIVE ATTACHMENT', 'ARMED ROBBERY WITH GUN',\n",
       "       'AGGRAVATED BATTERY', 'THEFT BY FRAUD', 'ARMED ROBBERY',\n",
       "       'BUSINESS BURGLARY', 'AUTO ACCIDENT FATALITY', 'FIRE',\n",
       "       'SIMPLE RAPE', 'WALKING BEAT', 'SUICIDE ATTEMPT',\n",
       "       'CRIMINAL MISCHIEF', 'SEXUAL BATTERY', 'RECOVERY OF VEHICLE',\n",
       "       'AGGRAVATED RAPE UNFOUNDED BY SPECIAL VICTIMS OR CHILD ABUSE',\n",
       "       'POSSESSION OF STOLEN PROPERTY', 'EXTORTION (THREATS) DOMESTIC',\n",
       "       'CARJACKING- NO WEAPON', 'VEHICLE PURSUIT', 'FORGERY',\n",
       "       'SIMPLE BURGLARY DOMESTIC', 'SEXTING', 'CARJACKING',\n",
       "       'MEDICAL SEXUAL ASSAULT KIT PROCESSING',\n",
       "       'AUTO ACCIDENT POLICE VEHICLE', 'DIRECTED TRAFFIC ENFORCEMENT',\n",
       "       'ILLEGAL CARRYING OF WEAPON- GUN',\n",
       "       'SIMULTANEOS STOLEN/RECOVERY VEHICLE', 'ABANDONED BOAT',\n",
       "       'HIT & RUN CITY VEHICLE', 'AGGRAVATED RAPE', 'BICYCLE THEFT',\n",
       "       'INDECENT BEHAVIOR', 'ILLEGAL CARRYING OF WEAPON',\n",
       "       'SIMPLE KIDNAPPING', 'QUALITY OF LIFE ISSUE', 'CRUELTY TO ANIMALS',\n",
       "       'HOMICIDE BY SHOOTING', 'HOMELESS', 'TRUANT VIOLATION',\n",
       "       'ISSUING WORTHLESS CHECKS', 'SIMPLE ASSAULT', 'FLOOD EVENT',\n",
       "       'CAD TEST', 'PROTEST', 'DISPERSE SUBJECTS',\n",
       "       'SEX OFFENDER REGISTRATION CHECK', 'TRAFFIC ATTACHMENT',\n",
       "       'NEGLIENT INJURY', 'HOMICIDE DOMESTIC', 'AGGRAVATED BURGLARY',\n",
       "       'ASSET SEIZURE', 'THEFT BY EMBEZZLEMENT', 'DESECRATION OF GRAVES',\n",
       "       'SUSPICIOUS PACKAGE', 'JUVENILE ATTACHMENT', 'VIDEO VOYEURISM',\n",
       "       'SIMPLE ARSON', 'MEET AN OFFICER', 'CONTRIBUTING TO DELINQUENCY',\n",
       "       'CURFEW VIOLATION', 'SUICIDE', 'MEDICAL - NALOXONE',\n",
       "       'HIT & RUN FATALITY', 'BOMB SCARE',\n",
       "       'SIMPLE RAPE UNFOUNDED BY SPECIAL VICTIMS OR CHILD ABUSE',\n",
       "       'AGGRAVATED KIDNAPPING', 'DRUNK', 'HOMICIDE',\n",
       "       'HIT & RUN POLICE VEHICLE', 'OFFICER NEEDS ASSISTANCE',\n",
       "       'HOMICIDE BY CUTTING', 'PROSTITUTION',\n",
       "       'OFFICER NEEDS ASSISTANCE, LIFE IN DANGER', 'BLIGHTED PROPERTY',\n",
       "       'ILLEGAL CARRYING OF WEAPON- KNIFE', 'ICING ON ROADS',\n",
       "       'SOLICITING FOR PROSTITUTION', 'BARRICADE ERECTED',\n",
       "       'AGGRAVATED ARSON', 'ATTACHMENT', 'EXPLOSION',\n",
       "       'CRIME AGAINST NATURE', 'FLOODED VEHICLE', 'TRAFFIC CONGESTION',\n",
       "       'EMS UNIT NEEDS ASSISTANCE', 'CRIMINAL MISCHIEF DOMESTIC',\n",
       "       'AGGRAVATED RAPE MALE VICTIM', 'PEEPING TOM', 'AIRPLANE CRASH',\n",
       "       'HOSTAGE SITUATION', 'SIMPLE ARSON DOMESTIC', 'SIMPLE ESCAPE',\n",
       "       'IMPERSONATING AN OFFICER', 'AGGRAVATED ESCAPE',\n",
       "       'REFERRAL TO MHSD', 'TROOP N AREA - BUSINESS - RESIDENCE CHECK',\n",
       "       'SIMPLE RAPE MALE VICTIM', 'PARADE ITEM NUMBER'], dtype=object)"
      ]
     },
     "execution_count": 8,
     "metadata": {},
     "output_type": "execute_result"
    }
   ],
   "source": [
    "df_Calls.TypeText.unique()\n",
    "violent_type =  #true and false"
   ]
  },
  {
   "cell_type": "code",
   "execution_count": null,
   "metadata": {},
   "outputs": [],
   "source": []
  }
 ],
 "metadata": {
  "interpreter": {
   "hash": "d6d5ebbc22686cbf87e792bf78f7dd83e8c50b321b9443f473afd7acb3f9cb7d"
  },
  "kernelspec": {
   "display_name": "Python 3.9.7 64-bit ('Capstone': conda)",
   "language": "python",
   "name": "python3"
  },
  "language_info": {
   "codemirror_mode": {
    "name": "ipython",
    "version": 3
   },
   "file_extension": ".py",
   "mimetype": "text/x-python",
   "name": "python",
   "nbconvert_exporter": "python",
   "pygments_lexer": "ipython3",
   "version": "3.9.7"
  },
  "orig_nbformat": 4
 },
 "nbformat": 4,
 "nbformat_minor": 2
}
