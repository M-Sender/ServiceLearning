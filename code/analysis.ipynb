{
 "cells": [
  {
   "cell_type": "markdown",
   "metadata": {},
   "source": [
    "[Click here for live site!](https://m-sender.github.io/ServiceLearning)\n",
    "# **Analyzing 911 Calls**\n",
    "# **--Max Sender and Sam Traylor--**\n",
    "\n",
    "### Data set link: [Calls for service 2021](https://data.nola.gov/Public-Safety-and-Preparedness/Calls-for-Service-2021/3pha-hum9)\n",
    "\n",
    "What this data set is a collection of 9-1-1 calls in 2021 in the New Orleans Area. This set contains basic things such as the type of incident, where it was, the police department, and timing, and more.\n",
    "\n",
    "## Questions\n",
    "\n",
    "#### We find this data set to be very insightful and can answer a lot of different questions. One route we can take is analyzing the data set to focusing on emergency response and answer questions regarding that. If this route is chosen, another dataset that could be of use is [Police Zone Information](https://data.nola.gov/dataset/Police-Zones/fngt-zkj9). This lets us expand our questions to answer more zone and area specific questions. Questions that we can answer going this route are:\n",
    "\n",
    "*   Average response time by incident?\n",
    "\n",
    "*   Average response time by zone/area?\n",
    "\n",
    "*   Average response time by incident in specific areas?\n",
    "\n",
    "#### Another route we can go with the data is focusing more on the crime aspect of the data set. This route will be more focused on answering questions about crime in specific areas instead of the emergency response.\n",
    "\n",
    "*   Most frequent crimes in specific areas?\n",
    "\n",
    "*   Based on the value counts of each type of crime in each area can we generalize patterns like violent crime happening more in one area, theft in another, etc?\n",
    "\n",
    "*   What are the most frequest crimes by time of day in conjunction with a specific area?\n",
    "\n",
    "#### There are more routes we can choose from and more questions will come to mind upon further analysis of the datasets. A combination of multiple routes will most likely render the most promising and insightful results.\n",
    "#### We will also be looking at and loading in Census data pertaining to the relavent zipcodes that are in the Calls to Service dataset.\n",
    "\n",
    "## Collaboration plan:\n",
    "\n",
    "We plan to collaborate via meetings over zoom, and store our data in a shared github. Any particular challenges that have to be solved in a pair-programming setting will be dealt with using live share on vscode."
   ]
  },
  {
   "cell_type": "code",
   "execution_count": 32,
   "metadata": {},
   "outputs": [],
   "source": [
    "import pandas as pd\n",
    "import numpy as np\n",
    "import matplotlib.pyplot as plt\n",
    "import seaborn as sns\n"
   ]
  },
  {
   "cell_type": "code",
   "execution_count": 33,
   "metadata": {},
   "outputs": [],
   "source": [
    "df_Calls_untidy = pd.read_csv(\"../data/Calls_for_Service_2021.csv\")\n",
    "df_zones_untidy = pd.read_csv(\"../data/Police_Zones_data.csv\")"
   ]
  },
  {
   "cell_type": "code",
   "execution_count": 6,
   "metadata": {},
   "outputs": [
    {
     "data": {
      "text/html": [
       "<div>\n",
       "<style scoped>\n",
       "    .dataframe tbody tr th:only-of-type {\n",
       "        vertical-align: middle;\n",
       "    }\n",
       "\n",
       "    .dataframe tbody tr th {\n",
       "        vertical-align: top;\n",
       "    }\n",
       "\n",
       "    .dataframe thead th {\n",
       "        text-align: right;\n",
       "    }\n",
       "</style>\n",
       "<table border=\"1\" class=\"dataframe\">\n",
       "  <thead>\n",
       "    <tr style=\"text-align: right;\">\n",
       "      <th></th>\n",
       "      <th>TypeText</th>\n",
       "      <th>Priority</th>\n",
       "      <th>InitialTypeText</th>\n",
       "      <th>InitialPriority</th>\n",
       "      <th>TimeCreate</th>\n",
       "      <th>TimeDispatch</th>\n",
       "      <th>TimeArrive</th>\n",
       "      <th>TimeClosed</th>\n",
       "      <th>DispositionText</th>\n",
       "      <th>SelfInitiated</th>\n",
       "      <th>BLOCK_ADDRESS</th>\n",
       "      <th>Zip</th>\n",
       "      <th>PoliceDistrict</th>\n",
       "      <th>Location</th>\n",
       "    </tr>\n",
       "  </thead>\n",
       "  <tbody>\n",
       "    <tr>\n",
       "      <th>0</th>\n",
       "      <td>AREA CHECK</td>\n",
       "      <td>1K</td>\n",
       "      <td>AREA CHECK</td>\n",
       "      <td>1K</td>\n",
       "      <td>2021-01-01 00:01:28</td>\n",
       "      <td>2021-01-01 00:01:28</td>\n",
       "      <td>2021-01-01 00:01:28</td>\n",
       "      <td>2021-01-01 00:40:31</td>\n",
       "      <td>Necessary Action Taken</td>\n",
       "      <td>Y</td>\n",
       "      <td>Vicksburg St &amp; Brooks St</td>\n",
       "      <td>70124</td>\n",
       "      <td>3</td>\n",
       "      <td>POINT (-90.10764787 29.99729994)</td>\n",
       "    </tr>\n",
       "    <tr>\n",
       "      <th>1</th>\n",
       "      <td>BURGLAR ALARM, SILENT</td>\n",
       "      <td>1A</td>\n",
       "      <td>BURGLAR ALARM, SILENT</td>\n",
       "      <td>2E</td>\n",
       "      <td>2021-01-01 00:01:34</td>\n",
       "      <td>2021-01-01 03:39:56</td>\n",
       "      <td>2021-01-01 03:43:58</td>\n",
       "      <td>2021-01-01 03:51:24</td>\n",
       "      <td>Necessary Action Taken</td>\n",
       "      <td>N</td>\n",
       "      <td>036XX Baronne St</td>\n",
       "      <td>70115</td>\n",
       "      <td>6</td>\n",
       "      <td>POINT (-90.09455243 29.92938301)</td>\n",
       "    </tr>\n",
       "    <tr>\n",
       "      <th>2</th>\n",
       "      <td>AREA CHECK</td>\n",
       "      <td>1K</td>\n",
       "      <td>AREA CHECK</td>\n",
       "      <td>1K</td>\n",
       "      <td>2021-01-01 00:01:47</td>\n",
       "      <td>2021-01-01 00:01:47</td>\n",
       "      <td>2021-01-01 00:01:47</td>\n",
       "      <td>2021-01-01 03:03:53</td>\n",
       "      <td>Necessary Action Taken</td>\n",
       "      <td>Y</td>\n",
       "      <td>Decatur St &amp; Iberville St</td>\n",
       "      <td>None</td>\n",
       "      <td>8</td>\n",
       "      <td>POINT (-90.06636912 29.95282347)</td>\n",
       "    </tr>\n",
       "    <tr>\n",
       "      <th>3</th>\n",
       "      <td>FIREWORKS</td>\n",
       "      <td>1A</td>\n",
       "      <td>FIREWORKS</td>\n",
       "      <td>2J</td>\n",
       "      <td>2021-01-01 00:02:13</td>\n",
       "      <td>NaT</td>\n",
       "      <td>NaT</td>\n",
       "      <td>2021-01-01 00:17:36</td>\n",
       "      <td>VOID</td>\n",
       "      <td>N</td>\n",
       "      <td>055XX Sutton Pl</td>\n",
       "      <td>70131</td>\n",
       "      <td>4</td>\n",
       "      <td>POINT (-89.9964721 29.91905338)</td>\n",
       "    </tr>\n",
       "    <tr>\n",
       "      <th>4</th>\n",
       "      <td>DISCHARGING FIREARM</td>\n",
       "      <td>1A</td>\n",
       "      <td>DISCHARGING FIREARM</td>\n",
       "      <td>2D</td>\n",
       "      <td>2021-01-01 00:02:14</td>\n",
       "      <td>2021-01-01 07:08:36</td>\n",
       "      <td>NaT</td>\n",
       "      <td>2021-01-01 07:08:48</td>\n",
       "      <td>Necessary Action Taken</td>\n",
       "      <td>N</td>\n",
       "      <td>Lonely Oak Dr &amp; Selma St</td>\n",
       "      <td>70126</td>\n",
       "      <td>7</td>\n",
       "      <td>POINT (-90.00138771 30.01667289)</td>\n",
       "    </tr>\n",
       "  </tbody>\n",
       "</table>\n",
       "</div>"
      ],
      "text/plain": [
       "                TypeText Priority        InitialTypeText InitialPriority  \\\n",
       "0             AREA CHECK       1K             AREA CHECK              1K   \n",
       "1  BURGLAR ALARM, SILENT       1A  BURGLAR ALARM, SILENT              2E   \n",
       "2             AREA CHECK       1K             AREA CHECK              1K   \n",
       "3              FIREWORKS       1A              FIREWORKS              2J   \n",
       "4    DISCHARGING FIREARM       1A    DISCHARGING FIREARM              2D   \n",
       "\n",
       "           TimeCreate        TimeDispatch          TimeArrive  \\\n",
       "0 2021-01-01 00:01:28 2021-01-01 00:01:28 2021-01-01 00:01:28   \n",
       "1 2021-01-01 00:01:34 2021-01-01 03:39:56 2021-01-01 03:43:58   \n",
       "2 2021-01-01 00:01:47 2021-01-01 00:01:47 2021-01-01 00:01:47   \n",
       "3 2021-01-01 00:02:13                 NaT                 NaT   \n",
       "4 2021-01-01 00:02:14 2021-01-01 07:08:36                 NaT   \n",
       "\n",
       "           TimeClosed         DispositionText SelfInitiated  \\\n",
       "0 2021-01-01 00:40:31  Necessary Action Taken             Y   \n",
       "1 2021-01-01 03:51:24  Necessary Action Taken             N   \n",
       "2 2021-01-01 03:03:53  Necessary Action Taken             Y   \n",
       "3 2021-01-01 00:17:36                    VOID             N   \n",
       "4 2021-01-01 07:08:48  Necessary Action Taken             N   \n",
       "\n",
       "               BLOCK_ADDRESS    Zip  PoliceDistrict  \\\n",
       "0   Vicksburg St & Brooks St  70124               3   \n",
       "1           036XX Baronne St  70115               6   \n",
       "2  Decatur St & Iberville St   None               8   \n",
       "3            055XX Sutton Pl  70131               4   \n",
       "4   Lonely Oak Dr & Selma St  70126               7   \n",
       "\n",
       "                           Location  \n",
       "0  POINT (-90.10764787 29.99729994)  \n",
       "1  POINT (-90.09455243 29.92938301)  \n",
       "2  POINT (-90.06636912 29.95282347)  \n",
       "3   POINT (-89.9964721 29.91905338)  \n",
       "4  POINT (-90.00138771 30.01667289)  "
      ]
     },
     "execution_count": 6,
     "metadata": {},
     "output_type": "execute_result"
    }
   ],
   "source": [
    "df_Calls = df_Calls_untidy.drop(columns=['NOPD_Item','Type','InitialType','MapX','MapY','Disposition','Beat'])\n",
    "#set type to date time objects\n",
    "df_Calls = df_Calls.astype({'TimeCreate':'datetime64[ns]','TimeDispatch':'datetime64[ns]',\"TimeArrive\":'datetime64[ns]',\"TimeClosed\":'datetime64[ns]'})\n",
    "df_Calls.head()"
   ]
  },
  {
   "cell_type": "markdown",
   "metadata": {},
   "source": [
    "**Columns Explained:**\n",
    "* TypeText: Type of incident (text)\n",
    "* Priority: Priority of incident (ID)\n",
    "* InitialTypeText: Initial type of incident (text)\n",
    "* InitialPriority: Initial priority of incident (ID)\n",
    "* TimeCreate: Time of incident\n",
    "* TimeDispatch: Time of dispatch\n",
    "* TimeArrive: Time of arrival\n",
    "* TimeClose: Time of closure\n",
    "* DispositionText: Disposition of incident (text)\n",
    "* SelfInitiated: Self-initiated (Y or N)\n",
    "* BLOCK_ADDRESS: Block address of incident\n",
    "* Zip: Zip code of incident\n",
    "* PoliceDistrict: Police district of incident (ID)\n",
    "* Location: Location of incident (ID)\n",
    "Each entry in the dataset in a unique call to 911 dispatch with relevant information.\n"
   ]
  },
  {
   "cell_type": "code",
   "execution_count": 34,
   "metadata": {},
   "outputs": [
    {
     "data": {
      "text/html": [
       "<div>\n",
       "<style scoped>\n",
       "    .dataframe tbody tr th:only-of-type {\n",
       "        vertical-align: middle;\n",
       "    }\n",
       "\n",
       "    .dataframe tbody tr th {\n",
       "        vertical-align: top;\n",
       "    }\n",
       "\n",
       "    .dataframe thead th {\n",
       "        text-align: right;\n",
       "    }\n",
       "</style>\n",
       "<table border=\"1\" class=\"dataframe\">\n",
       "  <thead>\n",
       "    <tr style=\"text-align: right;\">\n",
       "      <th></th>\n",
       "      <th>the_geom</th>\n",
       "      <th>Zone</th>\n",
       "      <th>District</th>\n",
       "      <th>Shape_Length</th>\n",
       "      <th>Shape_Area</th>\n",
       "    </tr>\n",
       "    <tr>\n",
       "      <th>OBJECTID</th>\n",
       "      <th></th>\n",
       "      <th></th>\n",
       "      <th></th>\n",
       "      <th></th>\n",
       "      <th></th>\n",
       "    </tr>\n",
       "  </thead>\n",
       "  <tbody>\n",
       "    <tr>\n",
       "      <th>1883</th>\n",
       "      <td>MULTIPOLYGON (((-90.066369220964 29.9528235013...</td>\n",
       "      <td>8C</td>\n",
       "      <td>8</td>\n",
       "      <td>6792.167688</td>\n",
       "      <td>2.012343e+06</td>\n",
       "    </tr>\n",
       "    <tr>\n",
       "      <th>1855</th>\n",
       "      <td>MULTIPOLYGON (((-90.096467011995 29.9414493437...</td>\n",
       "      <td>6K</td>\n",
       "      <td>6</td>\n",
       "      <td>8518.748545</td>\n",
       "      <td>4.324270e+06</td>\n",
       "    </tr>\n",
       "    <tr>\n",
       "      <th>1860</th>\n",
       "      <td>MULTIPOLYGON (((-90.100235367426 29.9209080675...</td>\n",
       "      <td>6P</td>\n",
       "      <td>6</td>\n",
       "      <td>11703.354343</td>\n",
       "      <td>7.651238e+06</td>\n",
       "    </tr>\n",
       "    <tr>\n",
       "      <th>1784</th>\n",
       "      <td>MULTIPOLYGON (((-90.108388478789 29.9349666704...</td>\n",
       "      <td>2I</td>\n",
       "      <td>2</td>\n",
       "      <td>14995.498757</td>\n",
       "      <td>1.318799e+07</td>\n",
       "    </tr>\n",
       "    <tr>\n",
       "      <th>1847</th>\n",
       "      <td>MULTIPOLYGON (((-90.065506929482 29.9391674081...</td>\n",
       "      <td>6C</td>\n",
       "      <td>6</td>\n",
       "      <td>13163.392602</td>\n",
       "      <td>5.747707e+06</td>\n",
       "    </tr>\n",
       "  </tbody>\n",
       "</table>\n",
       "</div>"
      ],
      "text/plain": [
       "                                                   the_geom Zone  District  \\\n",
       "OBJECTID                                                                     \n",
       "1883      MULTIPOLYGON (((-90.066369220964 29.9528235013...   8C         8   \n",
       "1855      MULTIPOLYGON (((-90.096467011995 29.9414493437...   6K         6   \n",
       "1860      MULTIPOLYGON (((-90.100235367426 29.9209080675...   6P         6   \n",
       "1784      MULTIPOLYGON (((-90.108388478789 29.9349666704...   2I         2   \n",
       "1847      MULTIPOLYGON (((-90.065506929482 29.9391674081...   6C         6   \n",
       "\n",
       "          Shape_Length    Shape_Area  \n",
       "OBJECTID                              \n",
       "1883       6792.167688  2.012343e+06  \n",
       "1855       8518.748545  4.324270e+06  \n",
       "1860      11703.354343  7.651238e+06  \n",
       "1784      14995.498757  1.318799e+07  \n",
       "1847      13163.392602  5.747707e+06  "
      ]
     },
     "execution_count": 34,
     "metadata": {},
     "output_type": "execute_result"
    }
   ],
   "source": [
    "df_zones_untidy.head(5)\n",
    "df_zones = df_zones_untidy.set_index(\"OBJECTID\")\n",
    "df_zones.head()"
   ]
  },
  {
   "cell_type": "markdown",
   "metadata": {},
   "source": [
    "**Columns Explained:**\n",
    "* the_geom: Polygon defining the zone in question\n",
    "* OBJECTID: The ID of the zone\n",
    "* Zone: The police zone\n",
    "* District: The district within the zone\n",
    "* Shape_Length: The perimeter of the zone\n",
    "* Share_Area: The the area inside of the zone"
   ]
  },
  {
   "cell_type": "code",
   "execution_count": 35,
   "metadata": {},
   "outputs": [
    {
     "ename": "AttributeError",
     "evalue": "'Series' object has no attribute 'TimeArrive'",
     "output_type": "error",
     "traceback": [
      "\u001b[0;31m---------------------------------------------------------------------------\u001b[0m",
      "\u001b[0;31mAttributeError\u001b[0m                            Traceback (most recent call last)",
      "\u001b[0;32m/var/folders/35/mjfp7drx4jqcy1b86n5t_5h40000gn/T/ipykernel_1230/3911800544.py\u001b[0m in \u001b[0;36m<module>\u001b[0;34m\u001b[0m\n\u001b[1;32m      4\u001b[0m \u001b[0;31m#Get the value counts of each different crime for each time of day (we could categorize into several-hour windows like afternoon, evening, night, late night)\u001b[0m\u001b[0;34m\u001b[0m\u001b[0;34m\u001b[0m\u001b[0;34m\u001b[0m\u001b[0m\n\u001b[1;32m      5\u001b[0m \u001b[0;31m#We could use measures of variance like the standard deviation from average response time, which would allow us to identify 'holes' wherever the response time is far higher than average.\u001b[0m\u001b[0;34m\u001b[0m\u001b[0;34m\u001b[0m\u001b[0;34m\u001b[0m\u001b[0m\n\u001b[0;32m----> 6\u001b[0;31m \u001b[0mdf_Calls\u001b[0m\u001b[0;34m[\u001b[0m\u001b[0;34m\"responseTime\"\u001b[0m\u001b[0;34m]\u001b[0m \u001b[0;34m=\u001b[0m \u001b[0mdf_Calls\u001b[0m\u001b[0;34m.\u001b[0m\u001b[0mTimeArrive\u001b[0m \u001b[0;34m-\u001b[0m \u001b[0mdf_Calls\u001b[0m\u001b[0;34m.\u001b[0m\u001b[0mTimeDispatch\u001b[0m\u001b[0;34m\u001b[0m\u001b[0;34m\u001b[0m\u001b[0m\n\u001b[0m\u001b[1;32m      7\u001b[0m \u001b[0;34m\u001b[0m\u001b[0m\n\u001b[1;32m      8\u001b[0m \u001b[0mprint\u001b[0m\u001b[0;34m(\u001b[0m\u001b[0;34m\"Maximum response time: \"\u001b[0m\u001b[0;34m,\u001b[0m \u001b[0mdf_Calls\u001b[0m\u001b[0;34m.\u001b[0m\u001b[0mresponseTime\u001b[0m\u001b[0;34m.\u001b[0m\u001b[0mmax\u001b[0m\u001b[0;34m(\u001b[0m\u001b[0;34m)\u001b[0m\u001b[0;34m)\u001b[0m\u001b[0;34m\u001b[0m\u001b[0;34m\u001b[0m\u001b[0m\n",
      "\u001b[0;32m/Library/Frameworks/Python.framework/Versions/3.7/lib/python3.7/site-packages/pandas/core/generic.py\u001b[0m in \u001b[0;36m__getattr__\u001b[0;34m(self, name)\u001b[0m\n\u001b[1;32m   5463\u001b[0m             \u001b[0;32mif\u001b[0m \u001b[0mself\u001b[0m\u001b[0;34m.\u001b[0m\u001b[0m_info_axis\u001b[0m\u001b[0;34m.\u001b[0m\u001b[0m_can_hold_identifiers_and_holds_name\u001b[0m\u001b[0;34m(\u001b[0m\u001b[0mname\u001b[0m\u001b[0;34m)\u001b[0m\u001b[0;34m:\u001b[0m\u001b[0;34m\u001b[0m\u001b[0;34m\u001b[0m\u001b[0m\n\u001b[1;32m   5464\u001b[0m                 \u001b[0;32mreturn\u001b[0m \u001b[0mself\u001b[0m\u001b[0;34m[\u001b[0m\u001b[0mname\u001b[0m\u001b[0;34m]\u001b[0m\u001b[0;34m\u001b[0m\u001b[0;34m\u001b[0m\u001b[0m\n\u001b[0;32m-> 5465\u001b[0;31m             \u001b[0;32mreturn\u001b[0m \u001b[0mobject\u001b[0m\u001b[0;34m.\u001b[0m\u001b[0m__getattribute__\u001b[0m\u001b[0;34m(\u001b[0m\u001b[0mself\u001b[0m\u001b[0;34m,\u001b[0m \u001b[0mname\u001b[0m\u001b[0;34m)\u001b[0m\u001b[0;34m\u001b[0m\u001b[0;34m\u001b[0m\u001b[0m\n\u001b[0m\u001b[1;32m   5466\u001b[0m \u001b[0;34m\u001b[0m\u001b[0m\n\u001b[1;32m   5467\u001b[0m     \u001b[0;32mdef\u001b[0m \u001b[0m__setattr__\u001b[0m\u001b[0;34m(\u001b[0m\u001b[0mself\u001b[0m\u001b[0;34m,\u001b[0m \u001b[0mname\u001b[0m\u001b[0;34m:\u001b[0m \u001b[0mstr\u001b[0m\u001b[0;34m,\u001b[0m \u001b[0mvalue\u001b[0m\u001b[0;34m)\u001b[0m \u001b[0;34m->\u001b[0m \u001b[0;32mNone\u001b[0m\u001b[0;34m:\u001b[0m\u001b[0;34m\u001b[0m\u001b[0;34m\u001b[0m\u001b[0m\n",
      "\u001b[0;31mAttributeError\u001b[0m: 'Series' object has no attribute 'TimeArrive'"
     ]
    }
   ],
   "source": [
    "#Using that same response time column, we could look at the means across different areas (using the police district or zip column of this dataset)\n",
    "#Using the results of the last question, we could further specify the avergage response time across incident type column values AND area column values.\n",
    "#Using zone information and response time, determine \"holes\" in the zones where response time is higher than the norm or where the area has an increase in crime due to the response times.\n",
    "#Get the value counts of each different crime for each time of day (we could categorize into several-hour windows like afternoon, evening, night, late night)\n",
    "#We could use measures of variance like the standard deviation from average response time, which would allow us to identify 'holes' wherever the response time is far higher than average.\n",
    "df_Calls[\"responseTime\"] = df_Calls.TimeArrive - df_Calls.TimeDispatch\n",
    "\n",
    "print(\"Maximum response time: \", df_Calls.responseTime.max())\n",
    "print(\"Mean response time: \", df_Calls.responseTime.mean(), \"\\n\") \n",
    "\n",
    "mean_by_zone = df_Calls.groupby([\"PoliceDistrict\"])\n",
    "for group in mean_by_zone:\n",
    "    print(\"Average response time in District\", group[0], \": \", group[1].responseTime.mean())"
   ]
  },
  {
   "cell_type": "code",
   "execution_count": 36,
   "metadata": {},
   "outputs": [
    {
     "ename": "AttributeError",
     "evalue": "'Series' object has no attribute 'TypeText'",
     "output_type": "error",
     "traceback": [
      "\u001b[0;31m---------------------------------------------------------------------------\u001b[0m",
      "\u001b[0;31mAttributeError\u001b[0m                            Traceback (most recent call last)",
      "\u001b[0;32m/var/folders/35/mjfp7drx4jqcy1b86n5t_5h40000gn/T/ipykernel_1230/3686895989.py\u001b[0m in \u001b[0;36m<module>\u001b[0;34m\u001b[0m\n\u001b[1;32m      4\u001b[0m \u001b[0;34m\u001b[0m\u001b[0m\n\u001b[1;32m      5\u001b[0m \u001b[0;31m#Get 30 most frequent crimes\u001b[0m\u001b[0;34m\u001b[0m\u001b[0;34m\u001b[0m\u001b[0;34m\u001b[0m\u001b[0m\n\u001b[0;32m----> 6\u001b[0;31m \u001b[0mnew_df\u001b[0m \u001b[0;34m=\u001b[0m \u001b[0mdf_Calls\u001b[0m\u001b[0;34m.\u001b[0m\u001b[0mTypeText\u001b[0m\u001b[0;34m.\u001b[0m\u001b[0mvalue_counts\u001b[0m\u001b[0;34m(\u001b[0m\u001b[0;34m)\u001b[0m\u001b[0;34m\u001b[0m\u001b[0;34m\u001b[0m\u001b[0m\n\u001b[0m\u001b[1;32m      7\u001b[0m \u001b[0mtop_Call_df\u001b[0m \u001b[0;34m=\u001b[0m \u001b[0mdf_Calls\u001b[0m\u001b[0;34m[\u001b[0m\u001b[0mdf_Calls\u001b[0m\u001b[0;34m.\u001b[0m\u001b[0mTypeText\u001b[0m\u001b[0;34m.\u001b[0m\u001b[0misin\u001b[0m\u001b[0;34m(\u001b[0m\u001b[0mnew_df\u001b[0m\u001b[0;34m[\u001b[0m\u001b[0;36m0\u001b[0m\u001b[0;34m:\u001b[0m\u001b[0;36m29\u001b[0m\u001b[0;34m]\u001b[0m\u001b[0;34m.\u001b[0m\u001b[0mindex\u001b[0m\u001b[0;34m)\u001b[0m\u001b[0;34m]\u001b[0m\u001b[0;34m\u001b[0m\u001b[0;34m\u001b[0m\u001b[0m\n\u001b[1;32m      8\u001b[0m \u001b[0mtop_Call_df\u001b[0m\u001b[0;34m\u001b[0m\u001b[0;34m\u001b[0m\u001b[0m\n",
      "\u001b[0;32m/Library/Frameworks/Python.framework/Versions/3.7/lib/python3.7/site-packages/pandas/core/generic.py\u001b[0m in \u001b[0;36m__getattr__\u001b[0;34m(self, name)\u001b[0m\n\u001b[1;32m   5463\u001b[0m             \u001b[0;32mif\u001b[0m \u001b[0mself\u001b[0m\u001b[0;34m.\u001b[0m\u001b[0m_info_axis\u001b[0m\u001b[0;34m.\u001b[0m\u001b[0m_can_hold_identifiers_and_holds_name\u001b[0m\u001b[0;34m(\u001b[0m\u001b[0mname\u001b[0m\u001b[0;34m)\u001b[0m\u001b[0;34m:\u001b[0m\u001b[0;34m\u001b[0m\u001b[0;34m\u001b[0m\u001b[0m\n\u001b[1;32m   5464\u001b[0m                 \u001b[0;32mreturn\u001b[0m \u001b[0mself\u001b[0m\u001b[0;34m[\u001b[0m\u001b[0mname\u001b[0m\u001b[0;34m]\u001b[0m\u001b[0;34m\u001b[0m\u001b[0;34m\u001b[0m\u001b[0m\n\u001b[0;32m-> 5465\u001b[0;31m             \u001b[0;32mreturn\u001b[0m \u001b[0mobject\u001b[0m\u001b[0;34m.\u001b[0m\u001b[0m__getattribute__\u001b[0m\u001b[0;34m(\u001b[0m\u001b[0mself\u001b[0m\u001b[0;34m,\u001b[0m \u001b[0mname\u001b[0m\u001b[0;34m)\u001b[0m\u001b[0;34m\u001b[0m\u001b[0;34m\u001b[0m\u001b[0m\n\u001b[0m\u001b[1;32m   5466\u001b[0m \u001b[0;34m\u001b[0m\u001b[0m\n\u001b[1;32m   5467\u001b[0m     \u001b[0;32mdef\u001b[0m \u001b[0m__setattr__\u001b[0m\u001b[0;34m(\u001b[0m\u001b[0mself\u001b[0m\u001b[0;34m,\u001b[0m \u001b[0mname\u001b[0m\u001b[0;34m:\u001b[0m \u001b[0mstr\u001b[0m\u001b[0;34m,\u001b[0m \u001b[0mvalue\u001b[0m\u001b[0;34m)\u001b[0m \u001b[0;34m->\u001b[0m \u001b[0;32mNone\u001b[0m\u001b[0;34m:\u001b[0m\u001b[0;34m\u001b[0m\u001b[0;34m\u001b[0m\u001b[0m\n",
      "\u001b[0;31mAttributeError\u001b[0m: 'Series' object has no attribute 'TypeText'"
     ]
    }
   ],
   "source": [
    "#using df_Calls, find the most common crimes for each police district\n",
    "#here lets make tables and stuff by grouping by zones, type of incidents, and other things that answer our question\n",
    "#we should be good after this and then in our plan we can say we will be making a map of the data we find and then graphs and such of data stuff than cant be mapped\n",
    "\n",
    "#Get 30 most frequent crimes\n",
    "new_df = df_Calls.TypeText.value_counts()\n",
    "top_Call_df = df_Calls[df_Calls.TypeText.isin(new_df[0:29].index)]\n",
    "top_Call_df"
   ]
  },
  {
   "cell_type": "markdown",
   "metadata": {},
   "source": [
    "The calls recieved are overwhelmingly either area checks or \"complaint other\" types. Because these are very generic and non-descriptive categories that don't tell much about the problems a district is facing, and because they skew the dataset by making up a massive portion, we remove those calls."
   ]
  },
  {
   "cell_type": "code",
   "execution_count": 28,
   "metadata": {},
   "outputs": [
    {
     "ename": "KeyError",
     "evalue": "'TypeText'",
     "output_type": "error",
     "traceback": [
      "\u001b[0;31m---------------------------------------------------------------------------\u001b[0m",
      "\u001b[0;31mKeyError\u001b[0m                                  Traceback (most recent call last)",
      "\u001b[0;32m/var/folders/35/mjfp7drx4jqcy1b86n5t_5h40000gn/T/ipykernel_1230/3844131681.py\u001b[0m in \u001b[0;36m<module>\u001b[0;34m\u001b[0m\n\u001b[0;32m----> 1\u001b[0;31m \u001b[0mdf_Calls\u001b[0m\u001b[0;34m[\u001b[0m\u001b[0;34m'TypeText'\u001b[0m\u001b[0;34m]\u001b[0m \u001b[0;34m=\u001b[0m \u001b[0mdf_Calls\u001b[0m\u001b[0;34m[\u001b[0m\u001b[0;34m'TypeText'\u001b[0m\u001b[0;34m]\u001b[0m\u001b[0;34m.\u001b[0m\u001b[0mapply\u001b[0m\u001b[0;34m(\u001b[0m\u001b[0mfilter\u001b[0m\u001b[0;34m(\u001b[0m\u001b[0;32mlambda\u001b[0m \u001b[0mx\u001b[0m\u001b[0;34m:\u001b[0m \u001b[0mx\u001b[0m \u001b[0;34m!=\u001b[0m \u001b[0;34m'AREA CHECK'\u001b[0m\u001b[0;34m)\u001b[0m\u001b[0;34m)\u001b[0m\u001b[0;34m\u001b[0m\u001b[0;34m\u001b[0m\u001b[0m\n\u001b[0m\u001b[1;32m      2\u001b[0m \u001b[0mdf_Calls\u001b[0m\u001b[0;34m[\u001b[0m\u001b[0;34m'TypeText'\u001b[0m\u001b[0;34m]\u001b[0m \u001b[0;34m=\u001b[0m \u001b[0mdf_Calls\u001b[0m\u001b[0;34m[\u001b[0m\u001b[0;34m'TypeText'\u001b[0m\u001b[0;34m]\u001b[0m\u001b[0;34m.\u001b[0m\u001b[0mapply\u001b[0m\u001b[0;34m(\u001b[0m\u001b[0mfilter\u001b[0m\u001b[0;34m(\u001b[0m\u001b[0;32mlambda\u001b[0m \u001b[0mx\u001b[0m\u001b[0;34m:\u001b[0m \u001b[0mx\u001b[0m \u001b[0;34m!=\u001b[0m \u001b[0;34m'COMPLAINT OTHER'\u001b[0m\u001b[0;34m)\u001b[0m\u001b[0;34m)\u001b[0m\u001b[0;34m\u001b[0m\u001b[0;34m\u001b[0m\u001b[0m\n\u001b[1;32m      3\u001b[0m \u001b[0mdf_Calls\u001b[0m\u001b[0;34m\u001b[0m\u001b[0;34m\u001b[0m\u001b[0m\n",
      "\u001b[0;32m/Library/Frameworks/Python.framework/Versions/3.7/lib/python3.7/site-packages/pandas/core/series.py\u001b[0m in \u001b[0;36m__getitem__\u001b[0;34m(self, key)\u001b[0m\n\u001b[1;32m    851\u001b[0m \u001b[0;34m\u001b[0m\u001b[0m\n\u001b[1;32m    852\u001b[0m         \u001b[0;32melif\u001b[0m \u001b[0mkey_is_scalar\u001b[0m\u001b[0;34m:\u001b[0m\u001b[0;34m\u001b[0m\u001b[0;34m\u001b[0m\u001b[0m\n\u001b[0;32m--> 853\u001b[0;31m             \u001b[0;32mreturn\u001b[0m \u001b[0mself\u001b[0m\u001b[0;34m.\u001b[0m\u001b[0m_get_value\u001b[0m\u001b[0;34m(\u001b[0m\u001b[0mkey\u001b[0m\u001b[0;34m)\u001b[0m\u001b[0;34m\u001b[0m\u001b[0;34m\u001b[0m\u001b[0m\n\u001b[0m\u001b[1;32m    854\u001b[0m \u001b[0;34m\u001b[0m\u001b[0m\n\u001b[1;32m    855\u001b[0m         \u001b[0;32mif\u001b[0m \u001b[0mis_hashable\u001b[0m\u001b[0;34m(\u001b[0m\u001b[0mkey\u001b[0m\u001b[0;34m)\u001b[0m\u001b[0;34m:\u001b[0m\u001b[0;34m\u001b[0m\u001b[0;34m\u001b[0m\u001b[0m\n",
      "\u001b[0;32m/Library/Frameworks/Python.framework/Versions/3.7/lib/python3.7/site-packages/pandas/core/series.py\u001b[0m in \u001b[0;36m_get_value\u001b[0;34m(self, label, takeable)\u001b[0m\n\u001b[1;32m    959\u001b[0m \u001b[0;34m\u001b[0m\u001b[0m\n\u001b[1;32m    960\u001b[0m         \u001b[0;31m# Similar to Index.get_value, but we do not fall back to positional\u001b[0m\u001b[0;34m\u001b[0m\u001b[0;34m\u001b[0m\u001b[0;34m\u001b[0m\u001b[0m\n\u001b[0;32m--> 961\u001b[0;31m         \u001b[0mloc\u001b[0m \u001b[0;34m=\u001b[0m \u001b[0mself\u001b[0m\u001b[0;34m.\u001b[0m\u001b[0mindex\u001b[0m\u001b[0;34m.\u001b[0m\u001b[0mget_loc\u001b[0m\u001b[0;34m(\u001b[0m\u001b[0mlabel\u001b[0m\u001b[0;34m)\u001b[0m\u001b[0;34m\u001b[0m\u001b[0;34m\u001b[0m\u001b[0m\n\u001b[0m\u001b[1;32m    962\u001b[0m         \u001b[0;32mreturn\u001b[0m \u001b[0mself\u001b[0m\u001b[0;34m.\u001b[0m\u001b[0mindex\u001b[0m\u001b[0;34m.\u001b[0m\u001b[0m_get_values_for_loc\u001b[0m\u001b[0;34m(\u001b[0m\u001b[0mself\u001b[0m\u001b[0;34m,\u001b[0m \u001b[0mloc\u001b[0m\u001b[0;34m,\u001b[0m \u001b[0mlabel\u001b[0m\u001b[0;34m)\u001b[0m\u001b[0;34m\u001b[0m\u001b[0;34m\u001b[0m\u001b[0m\n\u001b[1;32m    963\u001b[0m \u001b[0;34m\u001b[0m\u001b[0m\n",
      "\u001b[0;32m/Library/Frameworks/Python.framework/Versions/3.7/lib/python3.7/site-packages/pandas/core/indexes/range.py\u001b[0m in \u001b[0;36mget_loc\u001b[0;34m(self, key, method, tolerance)\u001b[0m\n\u001b[1;32m    352\u001b[0m                 \u001b[0;32mexcept\u001b[0m \u001b[0mValueError\u001b[0m \u001b[0;32mas\u001b[0m \u001b[0merr\u001b[0m\u001b[0;34m:\u001b[0m\u001b[0;34m\u001b[0m\u001b[0;34m\u001b[0m\u001b[0m\n\u001b[1;32m    353\u001b[0m                     \u001b[0;32mraise\u001b[0m \u001b[0mKeyError\u001b[0m\u001b[0;34m(\u001b[0m\u001b[0mkey\u001b[0m\u001b[0;34m)\u001b[0m \u001b[0;32mfrom\u001b[0m \u001b[0merr\u001b[0m\u001b[0;34m\u001b[0m\u001b[0;34m\u001b[0m\u001b[0m\n\u001b[0;32m--> 354\u001b[0;31m             \u001b[0;32mraise\u001b[0m \u001b[0mKeyError\u001b[0m\u001b[0;34m(\u001b[0m\u001b[0mkey\u001b[0m\u001b[0;34m)\u001b[0m\u001b[0;34m\u001b[0m\u001b[0;34m\u001b[0m\u001b[0m\n\u001b[0m\u001b[1;32m    355\u001b[0m         \u001b[0;32mreturn\u001b[0m \u001b[0msuper\u001b[0m\u001b[0;34m(\u001b[0m\u001b[0;34m)\u001b[0m\u001b[0;34m.\u001b[0m\u001b[0mget_loc\u001b[0m\u001b[0;34m(\u001b[0m\u001b[0mkey\u001b[0m\u001b[0;34m,\u001b[0m \u001b[0mmethod\u001b[0m\u001b[0;34m=\u001b[0m\u001b[0mmethod\u001b[0m\u001b[0;34m,\u001b[0m \u001b[0mtolerance\u001b[0m\u001b[0;34m=\u001b[0m\u001b[0mtolerance\u001b[0m\u001b[0;34m)\u001b[0m\u001b[0;34m\u001b[0m\u001b[0;34m\u001b[0m\u001b[0m\n\u001b[1;32m    356\u001b[0m \u001b[0;34m\u001b[0m\u001b[0m\n",
      "\u001b[0;31mKeyError\u001b[0m: 'TypeText'"
     ]
    }
   ],
   "source": [
    "df_Calls['TypeText'] = df_Calls['TypeText'].apply(filter(lambda x: x != 'AREA CHECK'))\n",
    "df_Calls['TypeText'] = df_Calls['TypeText'].apply(filter(lambda x: x != 'COMPLAINT OTHER'))\n",
    "df_Calls"
   ]
  },
  {
   "cell_type": "code",
   "execution_count": null,
   "metadata": {},
   "outputs": [],
   "source": [
    "type_by_district = top_Call_df[['PoliceDistrict','TypeText']].pivot_table(index=['PoliceDistrict'],columns=['TypeText'],aggfunc=np.count_nonzero)\n",
    "type_by_zipcode = top_Call_df[['Zip','TypeText']].pivot_table(index=['Zip'],columns=['TypeText'],aggfunc=np.count_nonzero)\n",
    "\n",
    "df_Calls_marg_district = type_by_district.T / type_by_district.T.sum()\n",
    "df_Calls_marg_zip = type_by_zipcode.T / type_by_zipcode.T.sum()\n",
    "pop_district = type_by_district.T.idxmax()\n",
    "pop_zip = type_by_zipcode.T.idxmax()\n",
    "type_by_district_with_freq =  pd.merge(type_by_district, pop_district.rename('Most Frequent'), 'outer',on='PoliceDistrict')\n",
    "type_by_zipcode_with_freq = pd.merge(type_by_zipcode, pop_zip.rename('Most Frequent'), 'outer',on='Zip')\n",
    "\n"
   ]
  },
  {
   "cell_type": "markdown",
   "metadata": {},
   "source": [
    "**From now on, when regarding crime, only the 30 most frequent types of crime will be used.**"
   ]
  },
  {
   "cell_type": "code",
   "execution_count": 11,
   "metadata": {},
   "outputs": [
    {
     "name": "stdout",
     "output_type": "stream",
     "text": [
      "Most Frequent Crimes by District:\n",
      "PoliceDistrict\n",
      "0         AREA CHECK\n",
      "1         AREA CHECK\n",
      "2         AREA CHECK\n",
      "3         AREA CHECK\n",
      "4         AREA CHECK\n",
      "5    COMPLAINT OTHER\n",
      "6    COMPLAINT OTHER\n",
      "7    COMPLAINT OTHER\n",
      "8    COMPLAINT OTHER\n",
      "dtype: object\n"
     ]
    }
   ],
   "source": [
    "print(\"Most Frequent Crimes by District:\") \n",
    "print(pop_district)"
   ]
  },
  {
   "cell_type": "code",
   "execution_count": 12,
   "metadata": {},
   "outputs": [
    {
     "data": {
      "image/png": "[encoded data removed]",
      "text/plain": [
       "<Figure size 2160x648 with 2 Axes>"
      ]
     },
     "metadata": {
      "needs_background": "light"
     },
     "output_type": "display_data"
    }
   ],
   "source": [
    "ax = plt.subplots(figsize=(30,9))\n",
    "plt.title(\"Most Frequent Crimes by District\")\n",
    "\n",
    "heat_map_districts_marginal = sns.heatmap(df_Calls_marg_district.T)"
   ]
  },
  {
   "cell_type": "markdown",
   "metadata": {},
   "source": [
    "The graph above is showing the conditional distribution of types of crime by police district, displayed in a heatmap.\n",
    "This could be a good metric to work with as we analyze the types of crimes and the distribution of crimes in each police district."
   ]
  },
  {
   "cell_type": "code",
   "execution_count": null,
   "metadata": {},
   "outputs": [],
   "source": [
    "df_Calls_crossTab = pd.crosstab(top_Call_df['PoliceDistrict'],top_Call_df['TypeText'])\n",
    "display((df_Calls_crossTab.T / df_Calls_crossTab.T.sum()).T.plot.barh(stacked=True, legend=True,figsize=(40,15),title=\"Conditional Distribution of type of Crime by District\"))\n",
    "df_Calls_crossTab.plot.barh(stacked=True, legend=True,figsize=(40, 15),title=\"Count of type of Crime by District\")"
   ]
  },
  {
   "cell_type": "markdown",
   "metadata": {},
   "source": [
    "The first graph above is the Conditional Distribution of type of Crime by District. The conditional distribution is the probability of a crime type happening in a district. The conditional distribution is calculated by taking the number of crimes of a certain type in a district and dividing it by the total number of crimes in that district.\n",
    "\n",
    "\n",
    "The second graph above is the Count of type of Crime by District. The count is the number of crimes of a certain type in a district.\n"
   ]
  },
  {
   "cell_type": "code",
   "execution_count": null,
   "metadata": {},
   "outputs": [],
   "source": [
    "ax = plt.subplots(figsize=(30,9))\n",
    "plt.title(\"Most Frequent Crimes by Zipcode\")\n",
    "print(\"Most Frequent Crimes by Zipcode:\")\n",
    "print(pop_zip)\n",
    "heat_map_zipcodes_marginal = sns.heatmap(df_Calls_marg_zip.T)\n",
    "    "
   ]
  },
  {
   "cell_type": "markdown",
   "metadata": {},
   "source": [
    "The graph above is showing the conditional distribution of types of crime by zipcode, displayed in a heatmap.\n",
    "This could be a good metric to work with as we analyze the types of crimes and the distribution of crimes in each zipcode."
   ]
  },
  {
   "cell_type": "code",
   "execution_count": null,
   "metadata": {},
   "outputs": [],
   "source": [
    "df_Calls_crossTab = pd.crosstab(top_Call_df['Zip'],top_Call_df['TypeText'])\n",
    "display((df_Calls_crossTab.T / df_Calls_crossTab.T.sum()).T.plot.barh(stacked=True, legend=True,figsize=(40,15),title=\"Conditional Distribution of type of Crime by Zipcode\"))\n",
    "df_Calls_crossTab.plot.barh(stacked=True, legend=True,figsize=(40, 15),title=\"Count of type of Crime by Zipcode\")"
   ]
  },
  {
   "cell_type": "markdown",
   "metadata": {},
   "source": [
    "The first graph above is the Conditional Distribution of type of Crime by Zipcode. The conditional distribution is the probability of a crime type happening in a Zipcode. The conditional distribution is calculated by taking the number of crimes of a certain type in a Zipcode and dividing it by the total number of crimes in that Zipcode.\n",
    "The second graph above is the Count of type of Crime by Zipcode. The count is the number of crimes of a certain type in a Zipcode.\n"
   ]
  },
  {
   "cell_type": "markdown",
   "metadata": {},
   "source": [
    "**Census Level Data by Zipcode**\n",
    "\n",
    "The below data is taken from [https://data.census.gov/](https://data.census.gov/) and we have taken certain statistics from the data set that we think would work well for our analysis. These include income, health care coverage, unemployment, and education.\n",
    "A scraping bot is being built top scrape the data from the site, but for now we have taken the numbers from the site and manually entered them."
   ]
  },
  {
   "cell_type": "code",
   "execution_count": null,
   "metadata": {},
   "outputs": [],
   "source": [
    "#BOT CODE\n",
    "'''from bs4 import BeautifulSoup as bf\n",
    "import requests_html as reqHtml\n",
    "zip_range = df_Calls.Zip.unique()\n",
    "\n",
    "baseUrl = \"https://data.census.gov/cedsci/all?q=ZCTA5\"\n",
    "space_ele = \"%20\"\n",
    "income = []\n",
    "health = []\n",
    "employment =[]\n",
    "education = []\n",
    "\n",
    "requ_Variables = [(\"Income%20and%20Poverty\",income),(\"%20Health\",health),(\"%20employment\",employment),(\"%20Education\",education)]\n",
    "browser = reqHtml.AsyncHTMLSession()\n",
    "for zipcodeBase in zip_range:\n",
    "    for requ_Variable in requ_Variables:\n",
    "            info = browser.get(baseUrl+space_ele+zipcodeBase+space_ele+requ_Variable[0])  \n",
    "            print(info)\n",
    "            #info.html.render()\n",
    "            parse_HTML = info.page_source\n",
    "            print(parse_HTML)\n",
    "            soup = bf(parse_HTML,\"html.parser\")\n",
    "            result = soup.find(\"div\",class_=\"aqua-card-title-text\")\n",
    "            result = result.text\n",
    "            requ_Variable[1].append(result)'''\n",
    "\n",
    "####END TEMPORARY BOT CODE\n",
    "\n",
    "'''print(['70124', '70115', np.nan, '70131', '70126', '70114', '70117', '70116', '70113',\n",
    " '70119', '70112', '70122', '70127', '70130', '70128', '70118', '70125', np.nan\n",
    " ,'70129', '70148'])'''\n",
    "\n",
    "zips = ['70124', '70115', np.nan, '70131', '70126', '70114', '70117', '70116', '70113',\n",
    " '70119', '70112', '70122', '70127', '70130', '70128', '70118', '70125', np.nan\n",
    " ,'70129', '70148']\n",
    "income = [96844,66499,np.nan,52312,27026,30806,30264,48919,18148,39827,\n",
    "          49439,39506,27190,53946,36414,48919,46526,np.nan,36950,np.nan] \n",
    "health = [3.8,7.2,np.nan,8.9,9.0,10.8,13.6,12.7,14.5,11.6,\n",
    "          12.1,9.2,8.6,8.1,7.5,7.6,7.9,np.nan,11.7,np.nan] #percent without health care coverage from 2019\n",
    "employment = [70.5, 66.1, np.nan, 59.5, 51.4, 50.7, 53.3, 54.7, 47.1, 55.5, 69.1, 69.1, 54.2, 50.6, 66.5, 53.2, 57.6,\n",
    "            56.5, np.nan, 52.5] \n",
    "education = [68.3, 60.4, np.nan, 34.1, 20.9, 21.9, 25.9, 41.3, 23.5, 38.1, 58.2, 31.1, 19.4, 57.8, 26.8, 50.5, 41.2,\n",
    "            np.nan, 13.2, np.nan] \n",
    "census_zip_df = pd.DataFrame({\"Zip\":zips,\"Income\":income,\"Health\":health,\"Employment\":employment,\"Education\":education})   \n",
    "\n",
    "census_zip_df.dropna(axis=0)\n",
    "\n",
    "print(\"Mean Income:\",census_zip_df[\"Income\"].mean())\n",
    "print(\"Mean Healthcare %:\",census_zip_df[\"Health\"].mean())\n",
    "print(\"Mean Employment %:\",census_zip_df[\"Employment\"].mean())\n",
    "print(\"Mean Education:\",census_zip_df[\"Education\"].mean())\n",
    "\n",
    "df_Calls.merge(census_zip_df, on=\"Zip\")"
   ]
  },
  {
   "cell_type": "markdown",
   "metadata": {},
   "source": [
    "In this dataframe we put together the percent of education bachelors or higher, the percent of employment, mean gross income per capita, and percent without healthcare coverage. This data, organized by zip code, will allow us to associate these demographic features with different regions that experience a high rate of crime, a prevalence of a certain type of crime, or a long response time"
   ]
  },
  {
   "cell_type": "markdown",
   "metadata": {},
   "source": [
    "**Our Future Plans**\n",
    "We plan to continue working on this project and expand our analysis to develop a predicitve model of which areas in the parish will get what kind of calls (violent crime, theft, vandalism etc.), when the calls will come in (based on the observed most common time of day for that crime), and what the response time of that kind of call would likely be. This data can help not only establish patterns that would help law enforcement target certain kinds of crime, but would also point towards any district in particular where preparedness needs to be increased (if an area's mean response time significantly deviates from the standard, for example).\n",
    "\n",
    "Another model we are planning on making is analyzing the cross between the type of crime/ frequency to income and other related fields by zipcodes avaible in the 911 call data set. After analyzing the crossing of data, we hope to find a line or certain characteristics that make some zipcodes more likely to be involved in certain types of crimes. With this \"line\" or characteristcs, we can then predict the likelihood of a zipcode being involved in a certain type of crime, and be able to tell when zipcodes are creeping towards that line/ ways to escape and improve."
   ]
  },
  {
   "cell_type": "markdown",
   "metadata": {},
   "source": []
  }
 ],
 "metadata": {
  "interpreter": {
   "hash": "d6d5ebbc22686cbf87e792bf78f7dd83e8c50b321b9443f473afd7acb3f9cb7d"
  },
  "kernelspec": {
   "display_name": "Python 3 (ipykernel)",
   "language": "python",
   "name": "python3"
  },
  "language_info": {
   "codemirror_mode": {
    "name": "ipython",
    "version": 3
   },
   "file_extension": ".py",
   "mimetype": "text/x-python",
   "name": "python",
   "nbconvert_exporter": "python",
   "pygments_lexer": "ipython3",
   "version": "3.8.2"
  }
 },
 "nbformat": 4,
 "nbformat_minor": 2
}
